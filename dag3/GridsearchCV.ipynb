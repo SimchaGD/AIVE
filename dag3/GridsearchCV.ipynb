{
 "cells": [
  {
   "cell_type": "markdown",
   "metadata": {},
   "source": [
    "# Packages inladen"
   ]
  },
  {
   "cell_type": "code",
   "execution_count": 1,
   "metadata": {},
   "outputs": [],
   "source": [
    "import pandas as pd\n",
    "import numpy as np\n",
    "from sklearn.model_selection import GridSearchCV\n",
    "import warnings\n",
    "warnings.filterwarnings('ignore')"
   ]
  },
  {
   "cell_type": "markdown",
   "metadata": {},
   "source": [
    "# Data exploration"
   ]
  },
  {
   "cell_type": "code",
   "execution_count": 2,
   "metadata": {},
   "outputs": [
    {
     "data": {
      "text/html": [
       "<div>\n",
       "<style scoped>\n",
       "    .dataframe tbody tr th:only-of-type {\n",
       "        vertical-align: middle;\n",
       "    }\n",
       "\n",
       "    .dataframe tbody tr th {\n",
       "        vertical-align: top;\n",
       "    }\n",
       "\n",
       "    .dataframe thead th {\n",
       "        text-align: right;\n",
       "    }\n",
       "</style>\n",
       "<table border=\"1\" class=\"dataframe\">\n",
       "  <thead>\n",
       "    <tr style=\"text-align: right;\">\n",
       "      <th></th>\n",
       "      <th>layer_height</th>\n",
       "      <th>wall_thickness</th>\n",
       "      <th>infill_density</th>\n",
       "      <th>infill_pattern</th>\n",
       "      <th>nozzle_temperature</th>\n",
       "      <th>bed_temperature</th>\n",
       "      <th>print_speed</th>\n",
       "      <th>fan_speed</th>\n",
       "      <th>roughness</th>\n",
       "      <th>tension_strength</th>\n",
       "      <th>elongation</th>\n",
       "    </tr>\n",
       "  </thead>\n",
       "  <tbody>\n",
       "    <tr>\n",
       "      <th>0</th>\n",
       "      <td>0.02</td>\n",
       "      <td>8</td>\n",
       "      <td>90</td>\n",
       "      <td>0</td>\n",
       "      <td>220</td>\n",
       "      <td>60</td>\n",
       "      <td>40</td>\n",
       "      <td>0</td>\n",
       "      <td>25</td>\n",
       "      <td>18</td>\n",
       "      <td>1.2</td>\n",
       "    </tr>\n",
       "    <tr>\n",
       "      <th>1</th>\n",
       "      <td>0.02</td>\n",
       "      <td>7</td>\n",
       "      <td>90</td>\n",
       "      <td>1</td>\n",
       "      <td>225</td>\n",
       "      <td>65</td>\n",
       "      <td>40</td>\n",
       "      <td>25</td>\n",
       "      <td>32</td>\n",
       "      <td>16</td>\n",
       "      <td>1.4</td>\n",
       "    </tr>\n",
       "    <tr>\n",
       "      <th>2</th>\n",
       "      <td>0.02</td>\n",
       "      <td>1</td>\n",
       "      <td>80</td>\n",
       "      <td>0</td>\n",
       "      <td>230</td>\n",
       "      <td>70</td>\n",
       "      <td>40</td>\n",
       "      <td>50</td>\n",
       "      <td>40</td>\n",
       "      <td>8</td>\n",
       "      <td>0.8</td>\n",
       "    </tr>\n",
       "    <tr>\n",
       "      <th>3</th>\n",
       "      <td>0.02</td>\n",
       "      <td>4</td>\n",
       "      <td>70</td>\n",
       "      <td>1</td>\n",
       "      <td>240</td>\n",
       "      <td>75</td>\n",
       "      <td>40</td>\n",
       "      <td>75</td>\n",
       "      <td>68</td>\n",
       "      <td>10</td>\n",
       "      <td>0.5</td>\n",
       "    </tr>\n",
       "    <tr>\n",
       "      <th>4</th>\n",
       "      <td>0.02</td>\n",
       "      <td>6</td>\n",
       "      <td>90</td>\n",
       "      <td>0</td>\n",
       "      <td>250</td>\n",
       "      <td>80</td>\n",
       "      <td>40</td>\n",
       "      <td>100</td>\n",
       "      <td>92</td>\n",
       "      <td>5</td>\n",
       "      <td>0.7</td>\n",
       "    </tr>\n",
       "  </tbody>\n",
       "</table>\n",
       "</div>"
      ],
      "text/plain": [
       "   layer_height  wall_thickness  infill_density  infill_pattern  \\\n",
       "0          0.02               8              90               0   \n",
       "1          0.02               7              90               1   \n",
       "2          0.02               1              80               0   \n",
       "3          0.02               4              70               1   \n",
       "4          0.02               6              90               0   \n",
       "\n",
       "   nozzle_temperature  bed_temperature  print_speed  fan_speed  roughness  \\\n",
       "0                 220               60           40          0         25   \n",
       "1                 225               65           40         25         32   \n",
       "2                 230               70           40         50         40   \n",
       "3                 240               75           40         75         68   \n",
       "4                 250               80           40        100         92   \n",
       "\n",
       "   tension_strength  elongation  \n",
       "0                18         1.2  \n",
       "1                16         1.4  \n",
       "2                 8         0.8  \n",
       "3                10         0.5  \n",
       "4                 5         0.7  "
      ]
     },
     "execution_count": 2,
     "metadata": {},
     "output_type": "execute_result"
    }
   ],
   "source": [
    "# Het inladen van tabellen. Dit wordt gezet in een \"DataFrame\"\n",
    "df = pd.read_csv(\"../3dprinter/data.csv\", sep=';')\n",
    "\n",
    "# Onze afhankelijke waarde is de kolom \"materiaal\"\n",
    "Y = df.material\n",
    "\n",
    "# Onze voorspellers moet het materiaal gaan voorspellen. We willen niet dat we het materiaal als gegeven zien. Dan wordt het wel heel makkelijk!\n",
    "X = df.drop(\"material\", axis = 1)\n",
    "\n",
    "X.head() # De kolom material staat er niet meer in"
   ]
  },
  {
   "cell_type": "code",
   "execution_count": 3,
   "metadata": {},
   "outputs": [
    {
     "name": "stdout",
     "output_type": "stream",
     "text": [
      "Fitting 3 folds for each of 27 candidates, totalling 81 fits\n",
      "Best parameters found:\n",
      " {'C': 0.1, 'gamma': 0.0001, 'kernel': 'linear'}\n",
      "With score:\n",
      " 1.0\n"
     ]
    }
   ],
   "source": [
    "from sklearn.svm import SVC\n",
    "svmc = SVC()\n",
    "parameter_space = {\n",
    "    'gamma': [0.0001, 0.001, 0.01],\n",
    "    'C': [0.1, 1, 10],\n",
    "    \"kernel\": [\"rbf\", \"linear\", \"poly\"]\n",
    "}\n",
    "gridcv = GridSearchCV(svmc, parameter_space, n_jobs=-1, cv=3, verbose = 8)\n",
    "gridcv.fit(X, Y)\n",
    "# Best paramete set\n",
    "print('Best parameters found:\\n', gridcv.best_params_)\n",
    "print('With score:\\n', gridcv.best_score_ )"
   ]
  },
  {
   "cell_type": "code",
   "execution_count": 4,
   "metadata": {},
   "outputs": [
    {
     "name": "stdout",
     "output_type": "stream",
     "text": [
      "C: 0.1, gamma: 0.0001, kernel:    rbf, score: 0.5220588235294118\n",
      "C: 0.1, gamma: 0.0001, kernel: linear, score:  1.0\n",
      "C: 0.1, gamma: 0.0001, kernel:   poly, score: 0.9215686274509803\n",
      "C: 0.1, gamma:  0.001, kernel:    rbf, score: 0.4803921568627451\n",
      "C: 0.1, gamma:  0.001, kernel: linear, score:  1.0\n",
      "C: 0.1, gamma:  0.001, kernel:   poly, score: 0.9215686274509803\n",
      "C: 0.1, gamma:   0.01, kernel:    rbf, score: 0.4803921568627451\n",
      "C: 0.1, gamma:   0.01, kernel: linear, score:  1.0\n",
      "C: 0.1, gamma:   0.01, kernel:   poly, score: 0.9215686274509803\n",
      "C:   1, gamma: 0.0001, kernel:    rbf, score: 0.5600490196078431\n",
      "C:   1, gamma: 0.0001, kernel: linear, score:  1.0\n",
      "C:   1, gamma: 0.0001, kernel:   poly, score: 0.9215686274509803\n",
      "C:   1, gamma:  0.001, kernel:    rbf, score: 0.3590686274509804\n",
      "C:   1, gamma:  0.001, kernel: linear, score:  1.0\n",
      "C:   1, gamma:  0.001, kernel:   poly, score: 0.9215686274509803\n",
      "C:   1, gamma:   0.01, kernel:    rbf, score: 0.4803921568627451\n",
      "C:   1, gamma:   0.01, kernel: linear, score:  1.0\n",
      "C:   1, gamma:   0.01, kernel:   poly, score: 0.9215686274509803\n",
      "C:  10, gamma: 0.0001, kernel:    rbf, score: 0.8615196078431372\n",
      "C:  10, gamma: 0.0001, kernel: linear, score:  1.0\n",
      "C:  10, gamma: 0.0001, kernel:   poly, score: 0.9215686274509803\n",
      "C:  10, gamma:  0.001, kernel:    rbf, score: 0.4215686274509804\n",
      "C:  10, gamma:  0.001, kernel: linear, score:  1.0\n",
      "C:  10, gamma:  0.001, kernel:   poly, score: 0.9215686274509803\n",
      "C:  10, gamma:   0.01, kernel:    rbf, score: 0.4803921568627451\n",
      "C:  10, gamma:   0.01, kernel: linear, score:  1.0\n",
      "C:  10, gamma:   0.01, kernel:   poly, score: 0.9215686274509803\n"
     ]
    }
   ],
   "source": [
    "for score, param in zip(gridcv.cv_results_[\"mean_test_score\"], gridcv.cv_results_[\"params\"]):\n",
    "    print(\"C: {:3}, gamma: {:6}, kernel: {:>6}, score: {:4}\".format(param[\"C\"], param[\"gamma\"], param[\"kernel\"], score))"
   ]
  },
  {
   "cell_type": "code",
   "execution_count": null,
   "metadata": {},
   "outputs": [],
   "source": []
  }
 ],
 "metadata": {
  "kernelspec": {
   "display_name": "Python 3 (ipykernel)",
   "language": "python",
   "name": "python3"
  },
  "language_info": {
   "codemirror_mode": {
    "name": "ipython",
    "version": 3
   },
   "file_extension": ".py",
   "mimetype": "text/x-python",
   "name": "python",
   "nbconvert_exporter": "python",
   "pygments_lexer": "ipython3",
   "version": "3.11.5"
  }
 },
 "nbformat": 4,
 "nbformat_minor": 4
}
