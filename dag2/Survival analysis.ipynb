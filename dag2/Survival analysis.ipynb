{
 "cells": [
  {
   "cell_type": "code",
   "execution_count": 1,
   "id": "1219c25f",
   "metadata": {},
   "outputs": [],
   "source": [
    "import pandas as pd\n",
    "import matplotlib.pyplot as plt"
   ]
  },
  {
   "cell_type": "code",
   "execution_count": 2,
   "id": "ec275c72",
   "metadata": {},
   "outputs": [],
   "source": [
    "import warnings\n",
    "warnings.filterwarnings(\"ignore\")"
   ]
  },
  {
   "cell_type": "code",
   "execution_count": 3,
   "id": "26b80c29",
   "metadata": {},
   "outputs": [
    {
     "data": {
      "text/html": [
       "<div>\n",
       "<style scoped>\n",
       "    .dataframe tbody tr th:only-of-type {\n",
       "        vertical-align: middle;\n",
       "    }\n",
       "\n",
       "    .dataframe tbody tr th {\n",
       "        vertical-align: top;\n",
       "    }\n",
       "\n",
       "    .dataframe thead th {\n",
       "        text-align: right;\n",
       "    }\n",
       "</style>\n",
       "<table border=\"1\" class=\"dataframe\">\n",
       "  <thead>\n",
       "    <tr style=\"text-align: right;\">\n",
       "      <th></th>\n",
       "      <th>lifetime</th>\n",
       "      <th>broken</th>\n",
       "      <th>pressureInd</th>\n",
       "      <th>moistureInd</th>\n",
       "      <th>temperatureInd</th>\n",
       "      <th>team</th>\n",
       "      <th>provider</th>\n",
       "      <th>censored</th>\n",
       "    </tr>\n",
       "  </thead>\n",
       "  <tbody>\n",
       "    <tr>\n",
       "      <th>52</th>\n",
       "      <td>1</td>\n",
       "      <td>0</td>\n",
       "      <td>72.423129</td>\n",
       "      <td>120.484155</td>\n",
       "      <td>116.400433</td>\n",
       "      <td>TeamB</td>\n",
       "      <td>Provider2</td>\n",
       "      <td>1</td>\n",
       "    </tr>\n",
       "    <tr>\n",
       "      <th>205</th>\n",
       "      <td>1</td>\n",
       "      <td>0</td>\n",
       "      <td>92.100802</td>\n",
       "      <td>89.994611</td>\n",
       "      <td>97.292290</td>\n",
       "      <td>TeamB</td>\n",
       "      <td>Provider1</td>\n",
       "      <td>1</td>\n",
       "    </tr>\n",
       "    <tr>\n",
       "      <th>464</th>\n",
       "      <td>1</td>\n",
       "      <td>0</td>\n",
       "      <td>141.042595</td>\n",
       "      <td>113.358822</td>\n",
       "      <td>91.310554</td>\n",
       "      <td>TeamC</td>\n",
       "      <td>Provider2</td>\n",
       "      <td>1</td>\n",
       "    </tr>\n",
       "    <tr>\n",
       "      <th>71</th>\n",
       "      <td>1</td>\n",
       "      <td>0</td>\n",
       "      <td>107.785993</td>\n",
       "      <td>117.390336</td>\n",
       "      <td>113.377308</td>\n",
       "      <td>TeamB</td>\n",
       "      <td>Provider4</td>\n",
       "      <td>1</td>\n",
       "    </tr>\n",
       "    <tr>\n",
       "      <th>209</th>\n",
       "      <td>1</td>\n",
       "      <td>0</td>\n",
       "      <td>104.658530</td>\n",
       "      <td>107.537666</td>\n",
       "      <td>126.374317</td>\n",
       "      <td>TeamB</td>\n",
       "      <td>Provider1</td>\n",
       "      <td>1</td>\n",
       "    </tr>\n",
       "  </tbody>\n",
       "</table>\n",
       "</div>"
      ],
      "text/plain": [
       "     lifetime  broken  pressureInd  moistureInd  temperatureInd   team  \\\n",
       "52          1       0    72.423129   120.484155      116.400433  TeamB   \n",
       "205         1       0    92.100802    89.994611       97.292290  TeamB   \n",
       "464         1       0   141.042595   113.358822       91.310554  TeamC   \n",
       "71          1       0   107.785993   117.390336      113.377308  TeamB   \n",
       "209         1       0   104.658530   107.537666      126.374317  TeamB   \n",
       "\n",
       "      provider  censored  \n",
       "52   Provider2         1  \n",
       "205  Provider1         1  \n",
       "464  Provider2         1  \n",
       "71   Provider4         1  \n",
       "209  Provider1         1  "
      ]
     },
     "execution_count": 3,
     "metadata": {},
     "output_type": "execute_result"
    }
   ],
   "source": [
    "df = pd.read_csv(\"survival_data.csv\")\n",
    "df['censored'] = 1-df.broken\n",
    "df = df.sort_values('lifetime')\n",
    "df.head()"
   ]
  },
  {
   "cell_type": "code",
   "execution_count": 4,
   "id": "795890e6",
   "metadata": {},
   "outputs": [
    {
     "data": {
      "text/html": [
       "<div>\n",
       "<style scoped>\n",
       "    .dataframe tbody tr th:only-of-type {\n",
       "        vertical-align: middle;\n",
       "    }\n",
       "\n",
       "    .dataframe tbody tr th {\n",
       "        vertical-align: top;\n",
       "    }\n",
       "\n",
       "    .dataframe thead th {\n",
       "        text-align: right;\n",
       "    }\n",
       "</style>\n",
       "<table border=\"1\" class=\"dataframe\">\n",
       "  <thead>\n",
       "    <tr style=\"text-align: right;\">\n",
       "      <th></th>\n",
       "      <th>lifetime</th>\n",
       "      <th>broken</th>\n",
       "      <th>censored</th>\n",
       "      <th>n_sample</th>\n",
       "      <th>HF</th>\n",
       "      <th>cHF</th>\n",
       "      <th>survival</th>\n",
       "    </tr>\n",
       "  </thead>\n",
       "  <tbody>\n",
       "    <tr>\n",
       "      <th>0</th>\n",
       "      <td>1</td>\n",
       "      <td>0</td>\n",
       "      <td>5</td>\n",
       "      <td>1000</td>\n",
       "      <td>0.0</td>\n",
       "      <td>0.0</td>\n",
       "      <td>1.0</td>\n",
       "    </tr>\n",
       "    <tr>\n",
       "      <th>1</th>\n",
       "      <td>2</td>\n",
       "      <td>0</td>\n",
       "      <td>11</td>\n",
       "      <td>995</td>\n",
       "      <td>0.0</td>\n",
       "      <td>0.0</td>\n",
       "      <td>1.0</td>\n",
       "    </tr>\n",
       "    <tr>\n",
       "      <th>2</th>\n",
       "      <td>3</td>\n",
       "      <td>0</td>\n",
       "      <td>3</td>\n",
       "      <td>984</td>\n",
       "      <td>0.0</td>\n",
       "      <td>0.0</td>\n",
       "      <td>1.0</td>\n",
       "    </tr>\n",
       "    <tr>\n",
       "      <th>3</th>\n",
       "      <td>4</td>\n",
       "      <td>0</td>\n",
       "      <td>8</td>\n",
       "      <td>981</td>\n",
       "      <td>0.0</td>\n",
       "      <td>0.0</td>\n",
       "      <td>1.0</td>\n",
       "    </tr>\n",
       "    <tr>\n",
       "      <th>4</th>\n",
       "      <td>5</td>\n",
       "      <td>0</td>\n",
       "      <td>10</td>\n",
       "      <td>973</td>\n",
       "      <td>0.0</td>\n",
       "      <td>0.0</td>\n",
       "      <td>1.0</td>\n",
       "    </tr>\n",
       "    <tr>\n",
       "      <th>...</th>\n",
       "      <td>...</td>\n",
       "      <td>...</td>\n",
       "      <td>...</td>\n",
       "      <td>...</td>\n",
       "      <td>...</td>\n",
       "      <td>...</td>\n",
       "      <td>...</td>\n",
       "    </tr>\n",
       "    <tr>\n",
       "      <th>85</th>\n",
       "      <td>88</td>\n",
       "      <td>42</td>\n",
       "      <td>4</td>\n",
       "      <td>112</td>\n",
       "      <td>0.375</td>\n",
       "      <td>1.410894</td>\n",
       "      <td>0.204093</td>\n",
       "    </tr>\n",
       "    <tr>\n",
       "      <th>86</th>\n",
       "      <td>89</td>\n",
       "      <td>1</td>\n",
       "      <td>0</td>\n",
       "      <td>66</td>\n",
       "      <td>0.015152</td>\n",
       "      <td>1.426045</td>\n",
       "      <td>0.201001</td>\n",
       "    </tr>\n",
       "    <tr>\n",
       "      <th>87</th>\n",
       "      <td>90</td>\n",
       "      <td>0</td>\n",
       "      <td>1</td>\n",
       "      <td>65</td>\n",
       "      <td>0.0</td>\n",
       "      <td>1.426045</td>\n",
       "      <td>0.201001</td>\n",
       "    </tr>\n",
       "    <tr>\n",
       "      <th>88</th>\n",
       "      <td>92</td>\n",
       "      <td>32</td>\n",
       "      <td>0</td>\n",
       "      <td>64</td>\n",
       "      <td>0.5</td>\n",
       "      <td>1.926045</td>\n",
       "      <td>0.1005</td>\n",
       "    </tr>\n",
       "    <tr>\n",
       "      <th>89</th>\n",
       "      <td>93</td>\n",
       "      <td>32</td>\n",
       "      <td>0</td>\n",
       "      <td>32</td>\n",
       "      <td>1.0</td>\n",
       "      <td>2.926045</td>\n",
       "      <td>0.0</td>\n",
       "    </tr>\n",
       "  </tbody>\n",
       "</table>\n",
       "<p>90 rows × 7 columns</p>\n",
       "</div>"
      ],
      "text/plain": [
       "    lifetime broken censored n_sample        HF       cHF  survival\n",
       "0          1      0        5     1000       0.0       0.0       1.0\n",
       "1          2      0       11      995       0.0       0.0       1.0\n",
       "2          3      0        3      984       0.0       0.0       1.0\n",
       "3          4      0        8      981       0.0       0.0       1.0\n",
       "4          5      0       10      973       0.0       0.0       1.0\n",
       "..       ...    ...      ...      ...       ...       ...       ...\n",
       "85        88     42        4      112     0.375  1.410894  0.204093\n",
       "86        89      1        0       66  0.015152  1.426045  0.201001\n",
       "87        90      0        1       65       0.0  1.426045  0.201001\n",
       "88        92     32        0       64       0.5  1.926045    0.1005\n",
       "89        93     32        0       32       1.0  2.926045       0.0\n",
       "\n",
       "[90 rows x 7 columns]"
      ]
     },
     "execution_count": 4,
     "metadata": {},
     "output_type": "execute_result"
    }
   ],
   "source": [
    "km_estimator = pd.DataFrame(columns = ['lifetime', 'broken', 'censored', 'n_sample', 'HF', 'cHF', 'survival'])\n",
    "km_estimator.lifetime = df.lifetime.unique()\n",
    "\n",
    "n = len(df)\n",
    "cHF = 0\n",
    "survival = 1\n",
    "ind = 0\n",
    "for t in km_estimator.lifetime:\n",
    "    df_filter = df.loc[df.lifetime == t]\n",
    "    km_estimator.loc[ind, 'broken'] = df_filter['broken'].sum()\n",
    "    km_estimator.loc[ind, 'censored'] = df_filter['censored'].sum()\n",
    "    \n",
    "    \n",
    "    km_estimator.n_sample[ind] = n\n",
    "    n -= (df_filter['broken'].sum() + df_filter['censored'].sum())\n",
    "    \n",
    "    km_estimator.HF[ind] = km_estimator.broken[ind]/km_estimator.n_sample[ind]\n",
    "    \n",
    "    cHF += km_estimator.HF[ind]\n",
    "    km_estimator.cHF[ind] = cHF\n",
    "    \n",
    "    survival *= (1-km_estimator.HF[ind])\n",
    "    km_estimator.survival[ind] = survival\n",
    "    \n",
    "    ind += 1\n",
    "    \n",
    "    \n",
    "km_estimator"
   ]
  },
  {
   "cell_type": "code",
   "execution_count": 5,
   "id": "b9ec3145",
   "metadata": {},
   "outputs": [
    {
     "data": {
      "text/plain": [
       "[<matplotlib.lines.Line2D at 0x151ba6ad9d0>]"
      ]
     },
     "execution_count": 5,
     "metadata": {},
     "output_type": "execute_result"
    },
    {
     "data": {
      "image/png": "[encoded data removed]",
      "text/plain": [
       "<Figure size 640x480 with 1 Axes>"
      ]
     },
     "metadata": {},
     "output_type": "display_data"
    }
   ],
   "source": [
    "plt.plot(km_estimator.lifetime, km_estimator.survival, drawstyle = 'steps-post')"
   ]
  },
  {
   "cell_type": "code",
   "execution_count": 6,
   "id": "eeaf4d86",
   "metadata": {},
   "outputs": [
    {
     "data": {
      "text/plain": [
       "<lifelines.KaplanMeierFitter:\"KM_estimate\", fitted with 1000 total observations, 603 right-censored observations>"
      ]
     },
     "execution_count": 6,
     "metadata": {},
     "output_type": "execute_result"
    }
   ],
   "source": [
    "from lifelines import KaplanMeierFitter\n",
    "km_fitter = KaplanMeierFitter()\n",
    "km_fitter.fit(df.lifetime, df.broken)"
   ]
  },
  {
   "cell_type": "code",
   "execution_count": 7,
   "id": "1a2994bb",
   "metadata": {},
   "outputs": [
    {
     "data": {
      "text/plain": [
       "<Axes: xlabel='timeline'>"
      ]
     },
     "execution_count": 7,
     "metadata": {},
     "output_type": "execute_result"
    },
    {
     "data": {
      "image/png": "[encoded data removed]",
      "text/plain": [
       "<Figure size 640x480 with 1 Axes>"
      ]
     },
     "metadata": {},
     "output_type": "display_data"
    }
   ],
   "source": [
    "km_fitter.plot(ci_show=True)\n",
    "# plt.plot(km_estimator.lifetime, km_estimator.survival, drawstyle = 'steps-post')"
   ]
  },
  {
   "cell_type": "code",
   "execution_count": 8,
   "id": "ae549a21",
   "metadata": {},
   "outputs": [],
   "source": [
    "from lifelines import CoxPHFitter"
   ]
  },
  {
   "cell_type": "code",
   "execution_count": 9,
   "id": "49896592",
   "metadata": {},
   "outputs": [
    {
     "data": {
      "text/html": [
       "<div>\n",
       "<style scoped>\n",
       "    .dataframe tbody tr th:only-of-type {\n",
       "        vertical-align: middle;\n",
       "    }\n",
       "\n",
       "    .dataframe tbody tr th {\n",
       "        vertical-align: top;\n",
       "    }\n",
       "\n",
       "    .dataframe thead th {\n",
       "        text-align: right;\n",
       "    }\n",
       "</style>\n",
       "<table border=\"1\" class=\"dataframe\">\n",
       "  <thead>\n",
       "    <tr style=\"text-align: right;\">\n",
       "      <th></th>\n",
       "      <th>lifetime</th>\n",
       "      <th>broken</th>\n",
       "      <th>temperatureInd</th>\n",
       "      <th>team_TeamC</th>\n",
       "      <th>provider_Provider2</th>\n",
       "      <th>provider_Provider3</th>\n",
       "      <th>provider_Provider4</th>\n",
       "    </tr>\n",
       "  </thead>\n",
       "  <tbody>\n",
       "    <tr>\n",
       "      <th>0</th>\n",
       "      <td>56</td>\n",
       "      <td>0</td>\n",
       "      <td>96.517159</td>\n",
       "      <td>False</td>\n",
       "      <td>False</td>\n",
       "      <td>False</td>\n",
       "      <td>True</td>\n",
       "    </tr>\n",
       "    <tr>\n",
       "      <th>1</th>\n",
       "      <td>81</td>\n",
       "      <td>1</td>\n",
       "      <td>87.271062</td>\n",
       "      <td>True</td>\n",
       "      <td>False</td>\n",
       "      <td>False</td>\n",
       "      <td>True</td>\n",
       "    </tr>\n",
       "    <tr>\n",
       "      <th>2</th>\n",
       "      <td>60</td>\n",
       "      <td>0</td>\n",
       "      <td>112.196170</td>\n",
       "      <td>False</td>\n",
       "      <td>False</td>\n",
       "      <td>False</td>\n",
       "      <td>False</td>\n",
       "    </tr>\n",
       "    <tr>\n",
       "      <th>3</th>\n",
       "      <td>86</td>\n",
       "      <td>1</td>\n",
       "      <td>72.025374</td>\n",
       "      <td>True</td>\n",
       "      <td>True</td>\n",
       "      <td>False</td>\n",
       "      <td>False</td>\n",
       "    </tr>\n",
       "    <tr>\n",
       "      <th>4</th>\n",
       "      <td>34</td>\n",
       "      <td>0</td>\n",
       "      <td>103.756271</td>\n",
       "      <td>False</td>\n",
       "      <td>False</td>\n",
       "      <td>False</td>\n",
       "      <td>False</td>\n",
       "    </tr>\n",
       "    <tr>\n",
       "      <th>...</th>\n",
       "      <td>...</td>\n",
       "      <td>...</td>\n",
       "      <td>...</td>\n",
       "      <td>...</td>\n",
       "      <td>...</td>\n",
       "      <td>...</td>\n",
       "      <td>...</td>\n",
       "    </tr>\n",
       "    <tr>\n",
       "      <th>995</th>\n",
       "      <td>88</td>\n",
       "      <td>1</td>\n",
       "      <td>99.861456</td>\n",
       "      <td>False</td>\n",
       "      <td>False</td>\n",
       "      <td>False</td>\n",
       "      <td>True</td>\n",
       "    </tr>\n",
       "    <tr>\n",
       "      <th>996</th>\n",
       "      <td>88</td>\n",
       "      <td>1</td>\n",
       "      <td>95.075631</td>\n",
       "      <td>False</td>\n",
       "      <td>False</td>\n",
       "      <td>False</td>\n",
       "      <td>True</td>\n",
       "    </tr>\n",
       "    <tr>\n",
       "      <th>997</th>\n",
       "      <td>22</td>\n",
       "      <td>0</td>\n",
       "      <td>83.221220</td>\n",
       "      <td>False</td>\n",
       "      <td>False</td>\n",
       "      <td>False</td>\n",
       "      <td>False</td>\n",
       "    </tr>\n",
       "    <tr>\n",
       "      <th>998</th>\n",
       "      <td>78</td>\n",
       "      <td>0</td>\n",
       "      <td>83.421491</td>\n",
       "      <td>False</td>\n",
       "      <td>False</td>\n",
       "      <td>False</td>\n",
       "      <td>True</td>\n",
       "    </tr>\n",
       "    <tr>\n",
       "      <th>999</th>\n",
       "      <td>63</td>\n",
       "      <td>0</td>\n",
       "      <td>47.641493</td>\n",
       "      <td>False</td>\n",
       "      <td>False</td>\n",
       "      <td>False</td>\n",
       "      <td>False</td>\n",
       "    </tr>\n",
       "  </tbody>\n",
       "</table>\n",
       "<p>1000 rows × 7 columns</p>\n",
       "</div>"
      ],
      "text/plain": [
       "     lifetime  broken  temperatureInd  team_TeamC  provider_Provider2  \\\n",
       "0          56       0       96.517159       False               False   \n",
       "1          81       1       87.271062        True               False   \n",
       "2          60       0      112.196170       False               False   \n",
       "3          86       1       72.025374        True                True   \n",
       "4          34       0      103.756271       False               False   \n",
       "..        ...     ...             ...         ...                 ...   \n",
       "995        88       1       99.861456       False               False   \n",
       "996        88       1       95.075631       False               False   \n",
       "997        22       0       83.221220       False               False   \n",
       "998        78       0       83.421491       False               False   \n",
       "999        63       0       47.641493       False               False   \n",
       "\n",
       "     provider_Provider3  provider_Provider4  \n",
       "0                 False                True  \n",
       "1                 False                True  \n",
       "2                 False               False  \n",
       "3                 False               False  \n",
       "4                 False               False  \n",
       "..                  ...                 ...  \n",
       "995               False                True  \n",
       "996               False                True  \n",
       "997               False               False  \n",
       "998               False                True  \n",
       "999               False               False  \n",
       "\n",
       "[1000 rows x 7 columns]"
      ]
     },
     "execution_count": 9,
     "metadata": {},
     "output_type": "execute_result"
    }
   ],
   "source": [
    "df = pd.read_csv(\"survival_data.csv\")\n",
    "df = pd.get_dummies(df, drop_first = True)\n",
    "\n",
    "df = df.drop(['pressureInd', 'moistureInd', 'team_TeamB'], axis = 'columns')\n",
    "df"
   ]
  },
  {
   "cell_type": "code",
   "execution_count": 10,
   "id": "93b76d41",
   "metadata": {},
   "outputs": [],
   "source": [
    "from sklearn.model_selection import train_test_split\n",
    "train, test = train_test_split(df, test_size=0.3)"
   ]
  },
  {
   "cell_type": "code",
   "execution_count": 11,
   "id": "93af21fd",
   "metadata": {},
   "outputs": [
    {
     "data": {
      "text/plain": [
       "<lifelines.CoxPHFitter: fitted with 700 total observations, 432 right-censored observations>"
      ]
     },
     "execution_count": 11,
     "metadata": {},
     "output_type": "execute_result"
    }
   ],
   "source": [
    "cph = CoxPHFitter()\n",
    "cph.fit(train, duration_col='lifetime', event_col='broken')"
   ]
  },
  {
   "cell_type": "code",
   "execution_count": 12,
   "id": "c02d7fe1",
   "metadata": {},
   "outputs": [
    {
     "data": {
      "text/html": [
       "<div>\n",
       "<style scoped>\n",
       "    .dataframe tbody tr th:only-of-type {\n",
       "        vertical-align: middle;\n",
       "    }\n",
       "\n",
       "    .dataframe tbody tr th {\n",
       "        vertical-align: top;\n",
       "    }\n",
       "\n",
       "    .dataframe thead th {\n",
       "        text-align: right;\n",
       "    }\n",
       "</style>\n",
       "<table border=\"1\" class=\"dataframe\">\n",
       "  <tbody>\n",
       "    <tr>\n",
       "      <th>model</th>\n",
       "      <td>lifelines.CoxPHFitter</td>\n",
       "    </tr>\n",
       "    <tr>\n",
       "      <th>duration col</th>\n",
       "      <td>'lifetime'</td>\n",
       "    </tr>\n",
       "    <tr>\n",
       "      <th>event col</th>\n",
       "      <td>'broken'</td>\n",
       "    </tr>\n",
       "    <tr>\n",
       "      <th>baseline estimation</th>\n",
       "      <td>breslow</td>\n",
       "    </tr>\n",
       "    <tr>\n",
       "      <th>number of observations</th>\n",
       "      <td>700</td>\n",
       "    </tr>\n",
       "    <tr>\n",
       "      <th>number of events observed</th>\n",
       "      <td>268</td>\n",
       "    </tr>\n",
       "    <tr>\n",
       "      <th>partial log-likelihood</th>\n",
       "      <td>-702.63</td>\n",
       "    </tr>\n",
       "    <tr>\n",
       "      <th>time fit was run</th>\n",
       "      <td>2023-12-01 11:07:14 UTC</td>\n",
       "    </tr>\n",
       "  </tbody>\n",
       "</table>\n",
       "</div><table border=\"1\" class=\"dataframe\">\n",
       "  <thead>\n",
       "    <tr style=\"text-align: right;\">\n",
       "      <th style=\"min-width: 12px;\"></th>\n",
       "      <th style=\"min-width: 12px;\">coef</th>\n",
       "      <th style=\"min-width: 12px;\">exp(coef)</th>\n",
       "      <th style=\"min-width: 12px;\">se(coef)</th>\n",
       "      <th style=\"min-width: 12px;\">coef lower 95%</th>\n",
       "      <th style=\"min-width: 12px;\">coef upper 95%</th>\n",
       "      <th style=\"min-width: 12px;\">exp(coef) lower 95%</th>\n",
       "      <th style=\"min-width: 12px;\">exp(coef) upper 95%</th>\n",
       "      <th style=\"min-width: 12px;\">cmp to</th>\n",
       "      <th style=\"min-width: 12px;\">z</th>\n",
       "      <th style=\"min-width: 12px;\">p</th>\n",
       "      <th style=\"min-width: 12px;\">-log2(p)</th>\n",
       "    </tr>\n",
       "  </thead>\n",
       "  <tbody>\n",
       "    <tr>\n",
       "      <th>temperatureInd</th>\n",
       "      <td>0.03</td>\n",
       "      <td>1.03</td>\n",
       "      <td>0.00</td>\n",
       "      <td>0.02</td>\n",
       "      <td>0.03</td>\n",
       "      <td>1.02</td>\n",
       "      <td>1.03</td>\n",
       "      <td>0.00</td>\n",
       "      <td>7.00</td>\n",
       "      <td>&lt;0.005</td>\n",
       "      <td>38.52</td>\n",
       "    </tr>\n",
       "    <tr>\n",
       "      <th>team_TeamC</th>\n",
       "      <td>43.68</td>\n",
       "      <td>9.30e+18</td>\n",
       "      <td>4629.06</td>\n",
       "      <td>-9029.12</td>\n",
       "      <td>9116.48</td>\n",
       "      <td>0.00</td>\n",
       "      <td>inf</td>\n",
       "      <td>0.00</td>\n",
       "      <td>0.01</td>\n",
       "      <td>0.99</td>\n",
       "      <td>0.01</td>\n",
       "    </tr>\n",
       "    <tr>\n",
       "      <th>provider_Provider2</th>\n",
       "      <td>-87.50</td>\n",
       "      <td>0.00</td>\n",
       "      <td>8327.57</td>\n",
       "      <td>-16409.25</td>\n",
       "      <td>16234.24</td>\n",
       "      <td>0.00</td>\n",
       "      <td>inf</td>\n",
       "      <td>0.00</td>\n",
       "      <td>-0.01</td>\n",
       "      <td>0.99</td>\n",
       "      <td>0.01</td>\n",
       "    </tr>\n",
       "    <tr>\n",
       "      <th>provider_Provider3</th>\n",
       "      <td>68.85</td>\n",
       "      <td>7.98e+29</td>\n",
       "      <td>20525.86</td>\n",
       "      <td>-40161.10</td>\n",
       "      <td>40298.81</td>\n",
       "      <td>0.00</td>\n",
       "      <td>inf</td>\n",
       "      <td>0.00</td>\n",
       "      <td>0.00</td>\n",
       "      <td>1.00</td>\n",
       "      <td>0.00</td>\n",
       "    </tr>\n",
       "    <tr>\n",
       "      <th>provider_Provider4</th>\n",
       "      <td>-65.44</td>\n",
       "      <td>0.00</td>\n",
       "      <td>6617.53</td>\n",
       "      <td>-13035.57</td>\n",
       "      <td>12904.69</td>\n",
       "      <td>0.00</td>\n",
       "      <td>inf</td>\n",
       "      <td>0.00</td>\n",
       "      <td>-0.01</td>\n",
       "      <td>0.99</td>\n",
       "      <td>0.01</td>\n",
       "    </tr>\n",
       "  </tbody>\n",
       "</table><br><div>\n",
       "<style scoped>\n",
       "    .dataframe tbody tr th:only-of-type {\n",
       "        vertical-align: middle;\n",
       "    }\n",
       "\n",
       "    .dataframe tbody tr th {\n",
       "        vertical-align: top;\n",
       "    }\n",
       "\n",
       "    .dataframe thead th {\n",
       "        text-align: right;\n",
       "    }\n",
       "</style>\n",
       "<table border=\"1\" class=\"dataframe\">\n",
       "  <tbody>\n",
       "    <tr>\n",
       "      <th>Concordance</th>\n",
       "      <td>1.00</td>\n",
       "    </tr>\n",
       "    <tr>\n",
       "      <th>Partial AIC</th>\n",
       "      <td>1415.26</td>\n",
       "    </tr>\n",
       "    <tr>\n",
       "      <th>log-likelihood ratio test</th>\n",
       "      <td>1133.99 on 5 df</td>\n",
       "    </tr>\n",
       "    <tr>\n",
       "      <th>-log2(p) of ll-ratio test</th>\n",
       "      <td>804.69</td>\n",
       "    </tr>\n",
       "  </tbody>\n",
       "</table>\n",
       "</div>"
      ],
      "text/latex": [
       "\\begin{tabular}{lrrrrrrrrrrr}\n",
       " & coef & exp(coef) & se(coef) & coef lower 95% & coef upper 95% & exp(coef) lower 95% & exp(coef) upper 95% & cmp to & z & p & -log2(p) \\\\\n",
       "covariate &  &  &  &  &  &  &  &  &  &  &  \\\\\n",
       "temperatureInd & 0.03 & 1.03 & 0.00 & 0.02 & 0.03 & 1.02 & 1.03 & 0.00 & 7.00 & 0.00 & 38.52 \\\\\n",
       "team_TeamC & 43.68 & 9296113448265799680.00 & 4629.06 & -9029.12 & 9116.48 & 0.00 & inf & 0.00 & 0.01 & 0.99 & 0.01 \\\\\n",
       "provider_Provider2 & -87.50 & 0.00 & 8327.57 & -16409.25 & 16234.24 & 0.00 & inf & 0.00 & -0.01 & 0.99 & 0.01 \\\\\n",
       "provider_Provider3 & 68.85 & 797718484923485328911043133440.00 & 20525.86 & -40161.10 & 40298.81 & 0.00 & inf & 0.00 & 0.00 & 1.00 & 0.00 \\\\\n",
       "provider_Provider4 & -65.44 & 0.00 & 6617.53 & -13035.57 & 12904.69 & 0.00 & inf & 0.00 & -0.01 & 0.99 & 0.01 \\\\\n",
       "\\end{tabular}\n"
      ],
      "text/plain": [
       "<lifelines.CoxPHFitter: fitted with 700 total observations, 432 right-censored observations>\n",
       "             duration col = 'lifetime'\n",
       "                event col = 'broken'\n",
       "      baseline estimation = breslow\n",
       "   number of observations = 700\n",
       "number of events observed = 268\n",
       "   partial log-likelihood = -702.63\n",
       "         time fit was run = 2023-12-01 11:07:14 UTC\n",
       "\n",
       "---\n",
       "                     coef  exp(coef)   se(coef)   coef lower 95%   coef upper 95%  exp(coef) lower 95%  exp(coef) upper 95%\n",
       "covariate                                                                                                                  \n",
       "temperatureInd       0.03       1.03       0.00             0.02             0.03                 1.02                 1.03\n",
       "team_TeamC          43.68   9.30e+18    4629.06         -9029.12          9116.48                 0.00                  inf\n",
       "provider_Provider2 -87.50       0.00    8327.57        -16409.25         16234.24                 0.00                  inf\n",
       "provider_Provider3  68.85   7.98e+29   20525.86        -40161.10         40298.81                 0.00                  inf\n",
       "provider_Provider4 -65.44       0.00    6617.53        -13035.57         12904.69                 0.00                  inf\n",
       "\n",
       "                     cmp to     z      p   -log2(p)\n",
       "covariate                                          \n",
       "temperatureInd         0.00  7.00 <0.005      38.52\n",
       "team_TeamC             0.00  0.01   0.99       0.01\n",
       "provider_Provider2     0.00 -0.01   0.99       0.01\n",
       "provider_Provider3     0.00  0.00   1.00       0.00\n",
       "provider_Provider4     0.00 -0.01   0.99       0.01\n",
       "---\n",
       "Concordance = 1.00\n",
       "Partial AIC = 1415.26\n",
       "log-likelihood ratio test = 1133.99 on 5 df\n",
       "-log2(p) of ll-ratio test = 804.69"
      ]
     },
     "metadata": {},
     "output_type": "display_data"
    }
   ],
   "source": [
    "cph.print_summary()"
   ]
  },
  {
   "cell_type": "code",
   "execution_count": 13,
   "id": "d2d92321-6b38-401a-94ac-55d915abf0d9",
   "metadata": {},
   "outputs": [
    {
     "data": {
      "text/plain": [
       "952    86.795882\n",
       "332    87.442355\n",
       "666    65.385779\n",
       "395    78.496046\n",
       "2      78.496397\n",
       "         ...    \n",
       "560    83.824889\n",
       "840    71.898608\n",
       "739    87.387812\n",
       "789    64.563144\n",
       "233    90.995095\n",
       "Length: 300, dtype: float64"
      ]
     },
     "execution_count": 13,
     "metadata": {},
     "output_type": "execute_result"
    }
   ],
   "source": [
    "cph.predict_expectation(test)"
   ]
  },
  {
   "cell_type": "code",
   "execution_count": 14,
   "id": "2ab6c3c9",
   "metadata": {},
   "outputs": [
    {
     "data": {
      "text/plain": [
       "<Axes: xlabel='log(HR) (95% CI)'>"
      ]
     },
     "execution_count": 14,
     "metadata": {},
     "output_type": "execute_result"
    },
    {
     "data": {
      "image/png": "[encoded data removed]",
      "text/plain": [
       "<Figure size 640x480 with 1 Axes>"
      ]
     },
     "metadata": {},
     "output_type": "display_data"
    }
   ],
   "source": [
    "cph.plot()"
   ]
  },
  {
   "cell_type": "code",
   "execution_count": 15,
   "id": "934ba790",
   "metadata": {},
   "outputs": [
    {
     "data": {
      "text/plain": [
       "446    90.420031\n",
       "396    85.064156\n",
       "41     64.425576\n",
       "917    59.169728\n",
       "993    63.829796\n",
       "dtype: float64"
      ]
     },
     "execution_count": 15,
     "metadata": {},
     "output_type": "execute_result"
    }
   ],
   "source": [
    "test_broken = test[test.broken == 1]\n",
    "ypred = cph.predict_expectation(test_broken)\n",
    "ypred.head()"
   ]
  },
  {
   "cell_type": "code",
   "execution_count": 16,
   "id": "b1eed86b",
   "metadata": {},
   "outputs": [
    {
     "data": {
      "text/plain": [
       "Text(0, 0.5, 'Predictions')"
      ]
     },
     "execution_count": 16,
     "metadata": {},
     "output_type": "execute_result"
    },
    {
     "data": {
      "image/png": "[encoded data removed]",
      "text/plain": [
       "<Figure size 640x480 with 1 Axes>"
      ]
     },
     "metadata": {},
     "output_type": "display_data"
    }
   ],
   "source": [
    "plt.scatter(test_broken.lifetime, ypred)\n",
    "plt.plot([60, 95], [60, 95], 'r--')\n",
    "plt.xlabel('Labels (lifetime)')\n",
    "plt.ylabel('Predictions')"
   ]
  },
  {
   "cell_type": "code",
   "execution_count": 17,
   "id": "ff9b51f9",
   "metadata": {},
   "outputs": [
    {
     "data": {
      "text/plain": [
       "<Axes: >"
      ]
     },
     "execution_count": 17,
     "metadata": {},
     "output_type": "execute_result"
    },
    {
     "data": {
      "image/png": "[encoded data removed]",
      "text/plain": [
       "<Figure size 640x480 with 1 Axes>"
      ]
     },
     "metadata": {},
     "output_type": "display_data"
    }
   ],
   "source": [
    "error = test_broken.lifetime - ypred\n",
    "error.hist(rwidth=0.9)"
   ]
  },
  {
   "cell_type": "code",
   "execution_count": null,
   "id": "3ffad564",
   "metadata": {},
   "outputs": [],
   "source": []
  },
  {
   "cell_type": "code",
   "execution_count": null,
   "id": "4c3dd367-e075-4b09-897a-fc23cd325513",
   "metadata": {},
   "outputs": [],
   "source": []
  }
 ],
 "metadata": {
  "kernelspec": {
   "display_name": "Python 3 (ipykernel)",
   "language": "python",
   "name": "python3"
  },
  "language_info": {
   "codemirror_mode": {
    "name": "ipython",
    "version": 3
   },
   "file_extension": ".py",
   "mimetype": "text/x-python",
   "name": "python",
   "nbconvert_exporter": "python",
   "pygments_lexer": "ipython3",
   "version": "3.11.5"
  }
 },
 "nbformat": 4,
 "nbformat_minor": 5
}
