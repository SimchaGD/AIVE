{
 "cells": [
  {
   "cell_type": "code",
   "execution_count": 1,
   "id": "2dbea68f",
   "metadata": {},
   "outputs": [],
   "source": [
    "import numpy as np\n",
    "import matplotlib.pyplot as plt"
   ]
  },
  {
   "cell_type": "code",
   "execution_count": 2,
   "id": "08eecfb6",
   "metadata": {},
   "outputs": [
    {
     "name": "stdout",
     "output_type": "stream",
     "text": [
      "Iteration 0: loss = 1.4271\n",
      "0.4 0.6083333333333334\n",
      "0.1 0.43333333333333335\n",
      "-0.2 0.008333333333333304\n"
     ]
    }
   ],
   "source": [
    "# initialiseer waardes\n",
    "epoch = 0\n",
    "w1 = 0.4\n",
    "w2 = 0.1\n",
    "b = -0.2\n",
    "\n",
    "\n",
    "# de data \n",
    "X1 = np.array([1, 1, 0, 0])\n",
    "X2 = np.array([1, 0, 1, 0])\n",
    "Y = X1 & X2\n",
    "\n",
    "# setup voor de eerste iteratie (de afgeleide van de entropy naar de gewichten)\n",
    "dEdw1 = 0\n",
    "dEdw2 = 0\n",
    "dEdb = 0\n",
    "E = 0\n",
    "\n",
    "for x1, x2, y in zip(X1, X2, Y):\n",
    "    # voorwaartse kant van het neuraal netwerk\n",
    "    h = b + w1*x1 + w2*x2\n",
    "    yhat = max(0, h)\n",
    "    \n",
    "    # bereken de error\n",
    "    E += -np.log(yhat) if y else - np.log(1-yhat)\n",
    "    \n",
    "    # achterwaardse kant van het neuraal netwerk\n",
    "    dEdy = -1/yhat if y else 1/(1-yhat)\n",
    "    dEdw1 += dEdy*(h > 0) * x1\n",
    "    dEdw2 += dEdy*(h > 0) * x2\n",
    "    dEdb += dEdy*(h > 0)\n",
    "\n",
    "# update van de gewichten\n",
    "alpha = 0.1\n",
    "w1new = w1 - alpha * dEdw1\n",
    "w2new = w2 - alpha * dEdw2\n",
    "bnew = b - alpha * dEdb\n",
    "print(f'Iteration {epoch}: loss = {E:.4f}')\n",
    "print(w1, w1new)\n",
    "print(w2, w2new)\n",
    "print(b, bnew)"
   ]
  },
  {
   "cell_type": "code",
   "execution_count": 3,
   "id": "a889e1fc",
   "metadata": {},
   "outputs": [
    {
     "name": "stdout",
     "output_type": "stream",
     "text": [
      "Iteration 1: loss = 1.5012\n",
      "0.6083333333333334 0.4427018633540373\n",
      "0.43333333333333335 0.34946695095948827\n",
      "0.008333333333333304 -0.43724295039235694\n"
     ]
    }
   ],
   "source": [
    "epoch += 1\n",
    "w1 = w1new\n",
    "w2 = w2new\n",
    "b =  bnew\n",
    "\n",
    "# setup voor de eerste iteratie (de afgeleidde van de entropy naar de gewichten)\n",
    "dEdw1 = 0\n",
    "dEdw2 = 0\n",
    "dEdb = 0\n",
    "E = 0\n",
    "\n",
    "for x1, x2, y in zip(X1, X2, Y):\n",
    "    # voorwaartse kant van het neuraal netwerk\n",
    "    h = b + w1*x1 + w2*x2\n",
    "    yhat = max(0, h)\n",
    "    \n",
    "    # bereken de error\n",
    "    E += -np.log(yhat) if y else - np.log(1-yhat)\n",
    "    \n",
    "    # achterewaardse kant van het neuraal netwerk\n",
    "    dEdy = -1/yhat if y else 1/(1-yhat)\n",
    "    dEdw1 += dEdy*(h > 0) * x1\n",
    "    dEdw2 += dEdy*(h > 0) * x2\n",
    "    dEdb += dEdy*(h > 0)\n",
    "\n",
    "# update van de gewichten\n",
    "alpha = 0.1\n",
    "w1new = w1 - alpha * dEdw1\n",
    "w2new = w2 - alpha * dEdw2\n",
    "bnew = b - alpha * dEdb\n",
    "print(f'Iteration {epoch}: loss = {E:.4f}')\n",
    "print(w1, w1new)\n",
    "print(w2, w2new)\n",
    "print(b, bnew)"
   ]
  },
  {
   "cell_type": "code",
   "execution_count": null,
   "id": "1888e7b3",
   "metadata": {},
   "outputs": [],
   "source": []
  }
 ],
 "metadata": {
  "kernelspec": {
   "display_name": "Python 3 (ipykernel)",
   "language": "python",
   "name": "python3"
  },
  "language_info": {
   "codemirror_mode": {
    "name": "ipython",
    "version": 3
   },
   "file_extension": ".py",
   "mimetype": "text/x-python",
   "name": "python",
   "nbconvert_exporter": "python",
   "pygments_lexer": "ipython3",
   "version": "3.11.5"
  }
 },
 "nbformat": 4,
 "nbformat_minor": 5
}
